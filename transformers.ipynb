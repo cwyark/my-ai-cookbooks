{
 "cells": [
  {
   "cell_type": "markdown",
   "metadata": {},
   "source": [
    "a transformers simple walkthrough"
   ]
  },
  {
   "cell_type": "code",
   "execution_count": 15,
   "metadata": {},
   "outputs": [
    {
     "name": "stderr",
     "output_type": "stream",
     "text": [
      "huggingface/tokenizers: The current process just got forked, after parallelism has already been used. Disabling parallelism to avoid deadlocks...\n",
      "To disable this warning, you can either:\n",
      "\t- Avoid using `tokenizers` before the fork if possible\n",
      "\t- Explicitly set the environment variable TOKENIZERS_PARALLELISM=(true | false)\n"
     ]
    },
    {
     "name": "stdout",
     "output_type": "stream",
     "text": [
      "Requirement already satisfied: transformers in /Users/cwyark/.pyenv/versions/3.12.4/envs/transformers/lib/python3.12/site-packages (4.42.4)\n",
      "Requirement already satisfied: filelock in /Users/cwyark/.pyenv/versions/3.12.4/envs/transformers/lib/python3.12/site-packages (from transformers) (3.15.4)\n",
      "Requirement already satisfied: huggingface-hub<1.0,>=0.23.2 in /Users/cwyark/.pyenv/versions/3.12.4/envs/transformers/lib/python3.12/site-packages (from transformers) (0.24.0)\n",
      "Requirement already satisfied: numpy<2.0,>=1.17 in /Users/cwyark/.pyenv/versions/3.12.4/envs/transformers/lib/python3.12/site-packages (from transformers) (1.26.4)\n",
      "Requirement already satisfied: packaging>=20.0 in /Users/cwyark/.pyenv/versions/3.12.4/envs/transformers/lib/python3.12/site-packages (from transformers) (24.1)\n",
      "Requirement already satisfied: pyyaml>=5.1 in /Users/cwyark/.pyenv/versions/3.12.4/envs/transformers/lib/python3.12/site-packages (from transformers) (6.0.1)\n",
      "Requirement already satisfied: regex!=2019.12.17 in /Users/cwyark/.pyenv/versions/3.12.4/envs/transformers/lib/python3.12/site-packages (from transformers) (2024.5.15)\n",
      "Requirement already satisfied: requests in /Users/cwyark/.pyenv/versions/3.12.4/envs/transformers/lib/python3.12/site-packages (from transformers) (2.32.3)\n",
      "Requirement already satisfied: safetensors>=0.4.1 in /Users/cwyark/.pyenv/versions/3.12.4/envs/transformers/lib/python3.12/site-packages (from transformers) (0.4.3)\n",
      "Requirement already satisfied: tokenizers<0.20,>=0.19 in /Users/cwyark/.pyenv/versions/3.12.4/envs/transformers/lib/python3.12/site-packages (from transformers) (0.19.1)\n",
      "Requirement already satisfied: tqdm>=4.27 in /Users/cwyark/.pyenv/versions/3.12.4/envs/transformers/lib/python3.12/site-packages (from transformers) (4.66.4)\n",
      "Requirement already satisfied: fsspec>=2023.5.0 in /Users/cwyark/.pyenv/versions/3.12.4/envs/transformers/lib/python3.12/site-packages (from huggingface-hub<1.0,>=0.23.2->transformers) (2024.6.1)\n",
      "Requirement already satisfied: typing-extensions>=3.7.4.3 in /Users/cwyark/.pyenv/versions/3.12.4/envs/transformers/lib/python3.12/site-packages (from huggingface-hub<1.0,>=0.23.2->transformers) (4.12.2)\n",
      "Requirement already satisfied: charset-normalizer<4,>=2 in /Users/cwyark/.pyenv/versions/3.12.4/envs/transformers/lib/python3.12/site-packages (from requests->transformers) (3.3.2)\n",
      "Requirement already satisfied: idna<4,>=2.5 in /Users/cwyark/.pyenv/versions/3.12.4/envs/transformers/lib/python3.12/site-packages (from requests->transformers) (3.7)\n",
      "Requirement already satisfied: urllib3<3,>=1.21.1 in /Users/cwyark/.pyenv/versions/3.12.4/envs/transformers/lib/python3.12/site-packages (from requests->transformers) (2.2.2)\n",
      "Requirement already satisfied: certifi>=2017.4.17 in /Users/cwyark/.pyenv/versions/3.12.4/envs/transformers/lib/python3.12/site-packages (from requests->transformers) (2024.7.4)\n",
      "\n",
      "\u001b[1m[\u001b[0m\u001b[34;49mnotice\u001b[0m\u001b[1;39;49m]\u001b[0m\u001b[39;49m A new release of pip is available: \u001b[0m\u001b[31;49m24.0\u001b[0m\u001b[39;49m -> \u001b[0m\u001b[32;49m24.1.2\u001b[0m\n",
      "\u001b[1m[\u001b[0m\u001b[34;49mnotice\u001b[0m\u001b[1;39;49m]\u001b[0m\u001b[39;49m To update, run: \u001b[0m\u001b[32;49mpip install --upgrade pip\u001b[0m\n"
     ]
    },
    {
     "name": "stderr",
     "output_type": "stream",
     "text": [
      "huggingface/tokenizers: The current process just got forked, after parallelism has already been used. Disabling parallelism to avoid deadlocks...\n",
      "To disable this warning, you can either:\n",
      "\t- Avoid using `tokenizers` before the fork if possible\n",
      "\t- Explicitly set the environment variable TOKENIZERS_PARALLELISM=(true | false)\n"
     ]
    },
    {
     "name": "stdout",
     "output_type": "stream",
     "text": [
      "Looking in indexes: https://pypi.org/simple, https://download.pytorch.org/whl/nightly/cpu\n",
      "Requirement already satisfied: torch in /Users/cwyark/.pyenv/versions/3.12.4/envs/transformers/lib/python3.12/site-packages (2.5.0.dev20240719)\n",
      "Requirement already satisfied: torchvision in /Users/cwyark/.pyenv/versions/3.12.4/envs/transformers/lib/python3.12/site-packages (0.20.0.dev20240719)\n",
      "Requirement already satisfied: torchaudio in /Users/cwyark/.pyenv/versions/3.12.4/envs/transformers/lib/python3.12/site-packages (2.4.0.dev20240719)\n",
      "Requirement already satisfied: filelock in /Users/cwyark/.pyenv/versions/3.12.4/envs/transformers/lib/python3.12/site-packages (from torch) (3.15.4)\n",
      "Requirement already satisfied: typing-extensions>=4.8.0 in /Users/cwyark/.pyenv/versions/3.12.4/envs/transformers/lib/python3.12/site-packages (from torch) (4.12.2)\n",
      "Requirement already satisfied: sympy in /Users/cwyark/.pyenv/versions/3.12.4/envs/transformers/lib/python3.12/site-packages (from torch) (1.13.1)\n",
      "Requirement already satisfied: networkx in /Users/cwyark/.pyenv/versions/3.12.4/envs/transformers/lib/python3.12/site-packages (from torch) (3.3)\n",
      "Requirement already satisfied: jinja2 in /Users/cwyark/.pyenv/versions/3.12.4/envs/transformers/lib/python3.12/site-packages (from torch) (3.1.4)\n",
      "Requirement already satisfied: fsspec in /Users/cwyark/.pyenv/versions/3.12.4/envs/transformers/lib/python3.12/site-packages (from torch) (2024.6.1)\n",
      "Requirement already satisfied: setuptools in /Users/cwyark/.pyenv/versions/3.12.4/envs/transformers/lib/python3.12/site-packages (from torch) (71.0.4)\n",
      "Requirement already satisfied: numpy in /Users/cwyark/.pyenv/versions/3.12.4/envs/transformers/lib/python3.12/site-packages (from torchvision) (1.26.4)\n",
      "Requirement already satisfied: pillow!=8.3.*,>=5.3.0 in /Users/cwyark/.pyenv/versions/3.12.4/envs/transformers/lib/python3.12/site-packages (from torchvision) (10.4.0)\n",
      "Requirement already satisfied: MarkupSafe>=2.0 in /Users/cwyark/.pyenv/versions/3.12.4/envs/transformers/lib/python3.12/site-packages (from jinja2->torch) (2.1.5)\n",
      "Requirement already satisfied: mpmath<1.4,>=1.1.0 in /Users/cwyark/.pyenv/versions/3.12.4/envs/transformers/lib/python3.12/site-packages (from sympy->torch) (1.3.0)\n",
      "\n",
      "\u001b[1m[\u001b[0m\u001b[34;49mnotice\u001b[0m\u001b[1;39;49m]\u001b[0m\u001b[39;49m A new release of pip is available: \u001b[0m\u001b[31;49m24.0\u001b[0m\u001b[39;49m -> \u001b[0m\u001b[32;49m24.1.2\u001b[0m\n",
      "\u001b[1m[\u001b[0m\u001b[34;49mnotice\u001b[0m\u001b[1;39;49m]\u001b[0m\u001b[39;49m To update, run: \u001b[0m\u001b[32;49mpip install --upgrade pip\u001b[0m\n"
     ]
    },
    {
     "name": "stderr",
     "output_type": "stream",
     "text": [
      "huggingface/tokenizers: The current process just got forked, after parallelism has already been used. Disabling parallelism to avoid deadlocks...\n",
      "To disable this warning, you can either:\n",
      "\t- Avoid using `tokenizers` before the fork if possible\n",
      "\t- Explicitly set the environment variable TOKENIZERS_PARALLELISM=(true | false)\n"
     ]
    },
    {
     "name": "stdout",
     "output_type": "stream",
     "text": [
      "Requirement already satisfied: accelerate in /Users/cwyark/.pyenv/versions/3.12.4/envs/transformers/lib/python3.12/site-packages (0.32.1)\n",
      "Requirement already satisfied: numpy<2.0.0,>=1.17 in /Users/cwyark/.pyenv/versions/3.12.4/envs/transformers/lib/python3.12/site-packages (from accelerate) (1.26.4)\n",
      "Requirement already satisfied: packaging>=20.0 in /Users/cwyark/.pyenv/versions/3.12.4/envs/transformers/lib/python3.12/site-packages (from accelerate) (24.1)\n",
      "Requirement already satisfied: psutil in /Users/cwyark/.pyenv/versions/3.12.4/envs/transformers/lib/python3.12/site-packages (from accelerate) (6.0.0)\n",
      "Requirement already satisfied: pyyaml in /Users/cwyark/.pyenv/versions/3.12.4/envs/transformers/lib/python3.12/site-packages (from accelerate) (6.0.1)\n",
      "Requirement already satisfied: torch>=1.10.0 in /Users/cwyark/.pyenv/versions/3.12.4/envs/transformers/lib/python3.12/site-packages (from accelerate) (2.5.0.dev20240719)\n",
      "Requirement already satisfied: huggingface-hub in /Users/cwyark/.pyenv/versions/3.12.4/envs/transformers/lib/python3.12/site-packages (from accelerate) (0.24.0)\n",
      "Requirement already satisfied: safetensors>=0.3.1 in /Users/cwyark/.pyenv/versions/3.12.4/envs/transformers/lib/python3.12/site-packages (from accelerate) (0.4.3)\n",
      "Requirement already satisfied: filelock in /Users/cwyark/.pyenv/versions/3.12.4/envs/transformers/lib/python3.12/site-packages (from torch>=1.10.0->accelerate) (3.15.4)\n",
      "Requirement already satisfied: typing-extensions>=4.8.0 in /Users/cwyark/.pyenv/versions/3.12.4/envs/transformers/lib/python3.12/site-packages (from torch>=1.10.0->accelerate) (4.12.2)\n",
      "Requirement already satisfied: sympy in /Users/cwyark/.pyenv/versions/3.12.4/envs/transformers/lib/python3.12/site-packages (from torch>=1.10.0->accelerate) (1.13.1)\n",
      "Requirement already satisfied: networkx in /Users/cwyark/.pyenv/versions/3.12.4/envs/transformers/lib/python3.12/site-packages (from torch>=1.10.0->accelerate) (3.3)\n",
      "Requirement already satisfied: jinja2 in /Users/cwyark/.pyenv/versions/3.12.4/envs/transformers/lib/python3.12/site-packages (from torch>=1.10.0->accelerate) (3.1.4)\n",
      "Requirement already satisfied: fsspec in /Users/cwyark/.pyenv/versions/3.12.4/envs/transformers/lib/python3.12/site-packages (from torch>=1.10.0->accelerate) (2024.6.1)\n",
      "Requirement already satisfied: setuptools in /Users/cwyark/.pyenv/versions/3.12.4/envs/transformers/lib/python3.12/site-packages (from torch>=1.10.0->accelerate) (71.0.4)\n",
      "Requirement already satisfied: requests in /Users/cwyark/.pyenv/versions/3.12.4/envs/transformers/lib/python3.12/site-packages (from huggingface-hub->accelerate) (2.32.3)\n",
      "Requirement already satisfied: tqdm>=4.42.1 in /Users/cwyark/.pyenv/versions/3.12.4/envs/transformers/lib/python3.12/site-packages (from huggingface-hub->accelerate) (4.66.4)\n",
      "Requirement already satisfied: MarkupSafe>=2.0 in /Users/cwyark/.pyenv/versions/3.12.4/envs/transformers/lib/python3.12/site-packages (from jinja2->torch>=1.10.0->accelerate) (2.1.5)\n",
      "Requirement already satisfied: charset-normalizer<4,>=2 in /Users/cwyark/.pyenv/versions/3.12.4/envs/transformers/lib/python3.12/site-packages (from requests->huggingface-hub->accelerate) (3.3.2)\n",
      "Requirement already satisfied: idna<4,>=2.5 in /Users/cwyark/.pyenv/versions/3.12.4/envs/transformers/lib/python3.12/site-packages (from requests->huggingface-hub->accelerate) (3.7)\n",
      "Requirement already satisfied: urllib3<3,>=1.21.1 in /Users/cwyark/.pyenv/versions/3.12.4/envs/transformers/lib/python3.12/site-packages (from requests->huggingface-hub->accelerate) (2.2.2)\n",
      "Requirement already satisfied: certifi>=2017.4.17 in /Users/cwyark/.pyenv/versions/3.12.4/envs/transformers/lib/python3.12/site-packages (from requests->huggingface-hub->accelerate) (2024.7.4)\n",
      "Requirement already satisfied: mpmath<1.4,>=1.1.0 in /Users/cwyark/.pyenv/versions/3.12.4/envs/transformers/lib/python3.12/site-packages (from sympy->torch>=1.10.0->accelerate) (1.3.0)\n",
      "\n",
      "\u001b[1m[\u001b[0m\u001b[34;49mnotice\u001b[0m\u001b[1;39;49m]\u001b[0m\u001b[39;49m A new release of pip is available: \u001b[0m\u001b[31;49m24.0\u001b[0m\u001b[39;49m -> \u001b[0m\u001b[32;49m24.1.2\u001b[0m\n",
      "\u001b[1m[\u001b[0m\u001b[34;49mnotice\u001b[0m\u001b[1;39;49m]\u001b[0m\u001b[39;49m To update, run: \u001b[0m\u001b[32;49mpip install --upgrade pip\u001b[0m\n"
     ]
    },
    {
     "name": "stderr",
     "output_type": "stream",
     "text": [
      "huggingface/tokenizers: The current process just got forked, after parallelism has already been used. Disabling parallelism to avoid deadlocks...\n",
      "To disable this warning, you can either:\n",
      "\t- Avoid using `tokenizers` before the fork if possible\n",
      "\t- Explicitly set the environment variable TOKENIZERS_PARALLELISM=(true | false)\n"
     ]
    },
    {
     "name": "stdout",
     "output_type": "stream",
     "text": [
      "Collecting datasets\n",
      "  Downloading datasets-2.20.0-py3-none-any.whl.metadata (19 kB)\n",
      "Collecting evaluate\n",
      "  Downloading evaluate-0.4.2-py3-none-any.whl.metadata (9.3 kB)\n",
      "Requirement already satisfied: filelock in /Users/cwyark/.pyenv/versions/3.12.4/envs/transformers/lib/python3.12/site-packages (from datasets) (3.15.4)\n",
      "Requirement already satisfied: numpy>=1.17 in /Users/cwyark/.pyenv/versions/3.12.4/envs/transformers/lib/python3.12/site-packages (from datasets) (1.26.4)\n",
      "Collecting pyarrow>=15.0.0 (from datasets)\n",
      "  Downloading pyarrow-17.0.0-cp312-cp312-macosx_11_0_arm64.whl.metadata (3.3 kB)\n",
      "Collecting pyarrow-hotfix (from datasets)\n",
      "  Downloading pyarrow_hotfix-0.6-py3-none-any.whl.metadata (3.6 kB)\n",
      "Collecting dill<0.3.9,>=0.3.0 (from datasets)\n",
      "  Downloading dill-0.3.8-py3-none-any.whl.metadata (10 kB)\n",
      "Collecting pandas (from datasets)\n",
      "  Downloading pandas-2.2.2-cp312-cp312-macosx_11_0_arm64.whl.metadata (19 kB)\n",
      "Requirement already satisfied: requests>=2.32.2 in /Users/cwyark/.pyenv/versions/3.12.4/envs/transformers/lib/python3.12/site-packages (from datasets) (2.32.3)\n",
      "Requirement already satisfied: tqdm>=4.66.3 in /Users/cwyark/.pyenv/versions/3.12.4/envs/transformers/lib/python3.12/site-packages (from datasets) (4.66.4)\n",
      "Collecting xxhash (from datasets)\n",
      "  Downloading xxhash-3.4.1-cp312-cp312-macosx_11_0_arm64.whl.metadata (12 kB)\n",
      "Collecting multiprocess (from datasets)\n",
      "  Downloading multiprocess-0.70.16-py312-none-any.whl.metadata (7.2 kB)\n",
      "Collecting fsspec<=2024.5.0,>=2023.1.0 (from fsspec[http]<=2024.5.0,>=2023.1.0->datasets)\n",
      "  Downloading fsspec-2024.5.0-py3-none-any.whl.metadata (11 kB)\n",
      "Collecting aiohttp (from datasets)\n",
      "  Using cached aiohttp-3.9.5-cp312-cp312-macosx_11_0_arm64.whl.metadata (7.5 kB)\n",
      "Requirement already satisfied: huggingface-hub>=0.21.2 in /Users/cwyark/.pyenv/versions/3.12.4/envs/transformers/lib/python3.12/site-packages (from datasets) (0.24.0)\n",
      "Requirement already satisfied: packaging in /Users/cwyark/.pyenv/versions/3.12.4/envs/transformers/lib/python3.12/site-packages (from datasets) (24.1)\n",
      "Requirement already satisfied: pyyaml>=5.1 in /Users/cwyark/.pyenv/versions/3.12.4/envs/transformers/lib/python3.12/site-packages (from datasets) (6.0.1)\n",
      "Collecting aiosignal>=1.1.2 (from aiohttp->datasets)\n",
      "  Using cached aiosignal-1.3.1-py3-none-any.whl.metadata (4.0 kB)\n",
      "Collecting attrs>=17.3.0 (from aiohttp->datasets)\n",
      "  Using cached attrs-23.2.0-py3-none-any.whl.metadata (9.5 kB)\n",
      "Collecting frozenlist>=1.1.1 (from aiohttp->datasets)\n",
      "  Using cached frozenlist-1.4.1-cp312-cp312-macosx_11_0_arm64.whl.metadata (12 kB)\n",
      "Collecting multidict<7.0,>=4.5 (from aiohttp->datasets)\n",
      "  Using cached multidict-6.0.5-cp312-cp312-macosx_11_0_arm64.whl.metadata (4.2 kB)\n",
      "Collecting yarl<2.0,>=1.0 (from aiohttp->datasets)\n",
      "  Using cached yarl-1.9.4-cp312-cp312-macosx_11_0_arm64.whl.metadata (31 kB)\n",
      "Requirement already satisfied: typing-extensions>=3.7.4.3 in /Users/cwyark/.pyenv/versions/3.12.4/envs/transformers/lib/python3.12/site-packages (from huggingface-hub>=0.21.2->datasets) (4.12.2)\n",
      "Requirement already satisfied: charset-normalizer<4,>=2 in /Users/cwyark/.pyenv/versions/3.12.4/envs/transformers/lib/python3.12/site-packages (from requests>=2.32.2->datasets) (3.3.2)\n",
      "Requirement already satisfied: idna<4,>=2.5 in /Users/cwyark/.pyenv/versions/3.12.4/envs/transformers/lib/python3.12/site-packages (from requests>=2.32.2->datasets) (3.7)\n",
      "Requirement already satisfied: urllib3<3,>=1.21.1 in /Users/cwyark/.pyenv/versions/3.12.4/envs/transformers/lib/python3.12/site-packages (from requests>=2.32.2->datasets) (2.2.2)\n",
      "Requirement already satisfied: certifi>=2017.4.17 in /Users/cwyark/.pyenv/versions/3.12.4/envs/transformers/lib/python3.12/site-packages (from requests>=2.32.2->datasets) (2024.7.4)\n",
      "Requirement already satisfied: python-dateutil>=2.8.2 in /Users/cwyark/.pyenv/versions/3.12.4/envs/transformers/lib/python3.12/site-packages (from pandas->datasets) (2.9.0.post0)\n",
      "Collecting pytz>=2020.1 (from pandas->datasets)\n",
      "  Downloading pytz-2024.1-py2.py3-none-any.whl.metadata (22 kB)\n",
      "Collecting tzdata>=2022.7 (from pandas->datasets)\n",
      "  Downloading tzdata-2024.1-py2.py3-none-any.whl.metadata (1.4 kB)\n",
      "Requirement already satisfied: six>=1.5 in /Users/cwyark/.pyenv/versions/3.12.4/envs/transformers/lib/python3.12/site-packages (from python-dateutil>=2.8.2->pandas->datasets) (1.16.0)\n",
      "Downloading datasets-2.20.0-py3-none-any.whl (547 kB)\n",
      "\u001b[2K   \u001b[38;2;114;156;31m━━━━━━━━━━━━━━━━━━━━━━━━━━━━━━━━━━━━━━━━\u001b[0m \u001b[32m547.8/547.8 kB\u001b[0m \u001b[31m2.6 MB/s\u001b[0m eta \u001b[36m0:00:00\u001b[0m[31m2.4 MB/s\u001b[0m eta \u001b[36m0:00:01\u001b[0m\n",
      "\u001b[?25hDownloading evaluate-0.4.2-py3-none-any.whl (84 kB)\n",
      "\u001b[2K   \u001b[38;2;114;156;31m━━━━━━━━━━━━━━━━━━━━━━━━━━━━━━━━━━━━━━━━\u001b[0m \u001b[32m84.1/84.1 kB\u001b[0m \u001b[31m6.6 MB/s\u001b[0m eta \u001b[36m0:00:00\u001b[0m\n",
      "\u001b[?25hDownloading dill-0.3.8-py3-none-any.whl (116 kB)\n",
      "\u001b[2K   \u001b[38;2;114;156;31m━━━━━━━━━━━━━━━━━━━━━━━━━━━━━━━━━━━━━━━━\u001b[0m \u001b[32m116.3/116.3 kB\u001b[0m \u001b[31m6.0 MB/s\u001b[0m eta \u001b[36m0:00:00\u001b[0m\n",
      "\u001b[?25hDownloading fsspec-2024.5.0-py3-none-any.whl (316 kB)\n",
      "\u001b[2K   \u001b[38;2;114;156;31m━━━━━━━━━━━━━━━━━━━━━━━━━━━━━━━━━━━━━━━━\u001b[0m \u001b[32m316.1/316.1 kB\u001b[0m \u001b[31m7.7 MB/s\u001b[0m eta \u001b[36m0:00:00\u001b[0m[31m10.8 MB/s\u001b[0m eta \u001b[36m0:00:01\u001b[0m\n",
      "\u001b[?25hUsing cached aiohttp-3.9.5-cp312-cp312-macosx_11_0_arm64.whl (392 kB)\n",
      "Downloading pyarrow-17.0.0-cp312-cp312-macosx_11_0_arm64.whl (27.2 MB)\n",
      "\u001b[2K   \u001b[38;2;114;156;31m━━━━━━━━━━━━━━━━━━━━━━━━━━━━━━━━━━━━━━━━\u001b[0m \u001b[32m27.2/27.2 MB\u001b[0m \u001b[31m9.9 MB/s\u001b[0m eta \u001b[36m0:00:00\u001b[0m0m eta \u001b[36m0:00:01\u001b[0m[36m0:00:01\u001b[0m\n",
      "\u001b[?25hDownloading multiprocess-0.70.16-py312-none-any.whl (146 kB)\n",
      "\u001b[2K   \u001b[38;2;114;156;31m━━━━━━━━━━━━━━━━━━━━━━━━━━━━━━━━━━━━━━━━\u001b[0m \u001b[32m146.7/146.7 kB\u001b[0m \u001b[31m6.5 MB/s\u001b[0m eta \u001b[36m0:00:00\u001b[0m\n",
      "\u001b[?25hDownloading pandas-2.2.2-cp312-cp312-macosx_11_0_arm64.whl (11.3 MB)\n",
      "\u001b[2K   \u001b[38;2;114;156;31m━━━━━━━━━━━━━━━━━━━━━━━━━━━━━━━━━━━━━━━━\u001b[0m \u001b[32m11.3/11.3 MB\u001b[0m \u001b[31m11.6 MB/s\u001b[0m eta \u001b[36m0:00:00\u001b[0m[36m0:00:01\u001b[0m[36m0:00:01\u001b[0m:01\u001b[0m\n",
      "\u001b[?25hDownloading pyarrow_hotfix-0.6-py3-none-any.whl (7.9 kB)\n",
      "Downloading xxhash-3.4.1-cp312-cp312-macosx_11_0_arm64.whl (30 kB)\n",
      "Using cached aiosignal-1.3.1-py3-none-any.whl (7.6 kB)\n",
      "Using cached attrs-23.2.0-py3-none-any.whl (60 kB)\n",
      "Using cached frozenlist-1.4.1-cp312-cp312-macosx_11_0_arm64.whl (51 kB)\n",
      "Using cached multidict-6.0.5-cp312-cp312-macosx_11_0_arm64.whl (29 kB)\n",
      "Downloading pytz-2024.1-py2.py3-none-any.whl (505 kB)\n",
      "\u001b[2K   \u001b[38;2;114;156;31m━━━━━━━━━━━━━━━━━━━━━━━━━━━━━━━━━━━━━━━━\u001b[0m \u001b[32m505.5/505.5 kB\u001b[0m \u001b[31m9.9 MB/s\u001b[0m eta \u001b[36m0:00:00\u001b[0m[31m12.2 MB/s\u001b[0m eta \u001b[36m0:00:01\u001b[0m\n",
      "\u001b[?25hDownloading tzdata-2024.1-py2.py3-none-any.whl (345 kB)\n",
      "\u001b[2K   \u001b[38;2;114;156;31m━━━━━━━━━━━━━━━━━━━━━━━━━━━━━━━━━━━━━━━━\u001b[0m \u001b[32m345.4/345.4 kB\u001b[0m \u001b[31m8.5 MB/s\u001b[0m eta \u001b[36m0:00:00\u001b[0m\u001b[36m0:00:01\u001b[0m\n",
      "\u001b[?25hUsing cached yarl-1.9.4-cp312-cp312-macosx_11_0_arm64.whl (79 kB)\n",
      "Installing collected packages: pytz, xxhash, tzdata, pyarrow-hotfix, pyarrow, multidict, fsspec, frozenlist, dill, attrs, yarl, pandas, multiprocess, aiosignal, aiohttp, datasets, evaluate\n",
      "  Attempting uninstall: fsspec\n",
      "    Found existing installation: fsspec 2024.6.1\n",
      "    Uninstalling fsspec-2024.6.1:\n",
      "      Successfully uninstalled fsspec-2024.6.1\n",
      "Successfully installed aiohttp-3.9.5 aiosignal-1.3.1 attrs-23.2.0 datasets-2.20.0 dill-0.3.8 evaluate-0.4.2 frozenlist-1.4.1 fsspec-2024.5.0 multidict-6.0.5 multiprocess-0.70.16 pandas-2.2.2 pyarrow-17.0.0 pyarrow-hotfix-0.6 pytz-2024.1 tzdata-2024.1 xxhash-3.4.1 yarl-1.9.4\n",
      "\n",
      "\u001b[1m[\u001b[0m\u001b[34;49mnotice\u001b[0m\u001b[1;39;49m]\u001b[0m\u001b[39;49m A new release of pip is available: \u001b[0m\u001b[31;49m24.0\u001b[0m\u001b[39;49m -> \u001b[0m\u001b[32;49m24.1.2\u001b[0m\n",
      "\u001b[1m[\u001b[0m\u001b[34;49mnotice\u001b[0m\u001b[1;39;49m]\u001b[0m\u001b[39;49m To update, run: \u001b[0m\u001b[32;49mpip install --upgrade pip\u001b[0m\n"
     ]
    }
   ],
   "source": [
    "! pip install transformers\n",
    "! pip install --pre torch torchvision torchaudio --extra-index-url https://download.pytorch.org/whl/nightly/cpu\n",
    "! pip install accelerate # for faster training on mac m1/cpu when using transformers\n",
    "! pip install datasets evaluate"
   ]
  },
  {
   "cell_type": "code",
   "execution_count": 16,
   "metadata": {},
   "outputs": [],
   "source": [
    "from transformers import pipeline\n",
    "import torch"
   ]
  },
  {
   "cell_type": "code",
   "execution_count": 17,
   "metadata": {},
   "outputs": [
    {
     "name": "stdout",
     "output_type": "stream",
     "text": [
      "mps is available\n",
      "mps support is build with pytorch\n"
     ]
    }
   ],
   "source": [
    "# check torch is work on apple mac m1 mps\n",
    "if torch.backends.mps.is_available():\n",
    "    print('mps is available')\n",
    "else:\n",
    "    print('mps is not available')\n",
    "if torch.backends.mps.is_built():\n",
    "    print('mps support is build with pytorch')\n",
    "else:\n",
    "    print('mps is not build with pytorch')"
   ]
  },
  {
   "cell_type": "code",
   "execution_count": 18,
   "metadata": {},
   "outputs": [
    {
     "name": "stderr",
     "output_type": "stream",
     "text": [
      "No model was supplied, defaulted to distilbert/distilbert-base-uncased-finetuned-sst-2-english and revision af0f99b (https://huggingface.co/distilbert/distilbert-base-uncased-finetuned-sst-2-english).\n",
      "Using a pipeline without specifying a model name and revision in production is not recommended.\n"
     ]
    },
    {
     "data": {
      "text/plain": [
       "True"
      ]
     },
     "execution_count": 18,
     "metadata": {},
     "output_type": "execute_result"
    }
   ],
   "source": [
    "classifier = pipeline('sentiment-analysis', device='mps')\n",
    "\n",
    "# make sure classifier is running mps\n",
    "classifier.device == torch.device(type='mps')"
   ]
  },
  {
   "cell_type": "code",
   "execution_count": 19,
   "metadata": {},
   "outputs": [
    {
     "data": {
      "text/plain": [
       "[{'label': 'POSITIVE', 'score': 0.9996980428695679}]"
      ]
     },
     "execution_count": 19,
     "metadata": {},
     "output_type": "execute_result"
    }
   ],
   "source": [
    "classifier('We are very happy to introduce pipeline to the transformers repository.')"
   ]
  },
  {
   "cell_type": "code",
   "execution_count": 20,
   "metadata": {},
   "outputs": [],
   "source": [
    "from transformers import AutoTokenizer, AutoModel"
   ]
  },
  {
   "cell_type": "code",
   "execution_count": 21,
   "metadata": {},
   "outputs": [
    {
     "name": "stdout",
     "output_type": "stream",
     "text": [
      "mps:0\n"
     ]
    }
   ],
   "source": [
    "tokenizer = AutoTokenizer.from_pretrained(\"google-bert/bert-base-uncased\")\n",
    "model = AutoModel.from_pretrained(\"google-bert/bert-base-uncased\", device_map='mps')\n",
    "\n",
    "print(model.device)"
   ]
  },
  {
   "cell_type": "code",
   "execution_count": 22,
   "metadata": {},
   "outputs": [],
   "source": [
    "inputs = tokenizer(\"Hello world!\", return_tensors='pt').to('mps')\n",
    "outputs = model(**inputs)"
   ]
  },
  {
   "cell_type": "code",
   "execution_count": 23,
   "metadata": {},
   "outputs": [
    {
     "data": {
      "text/plain": [
       "BaseModelOutputWithPoolingAndCrossAttentions(last_hidden_state=tensor([[[-0.1424,  0.1335, -0.1291,  ..., -0.3597, -0.0562,  0.3605],\n",
       "         [-0.3506,  0.1042,  0.6244,  ..., -0.1761,  0.4834,  0.0644],\n",
       "         [-0.2451, -0.1573,  0.6945,  ..., -0.5654, -0.0894, -0.1856],\n",
       "         [-0.8248, -0.9119, -0.6561,  ...,  0.5074, -0.1939, -0.1659],\n",
       "         [ 0.8767,  0.0352, -0.1233,  ...,  0.2720, -0.6369, -0.1585]]],\n",
       "       device='mps:0', grad_fn=<NativeLayerNormBackward0>), pooler_output=tensor([[-8.9756e-01, -3.3040e-01, -7.6942e-01,  7.5799e-01,  4.6678e-01,\n",
       "         -1.2035e-01,  9.1835e-01,  1.8087e-01, -7.2716e-01, -9.9991e-01,\n",
       "         -4.4723e-01,  8.9104e-01,  9.6621e-01,  5.4915e-01,  9.4344e-01,\n",
       "         -7.6605e-01, -6.0469e-01, -6.1654e-01,  4.0572e-01, -7.4644e-01,\n",
       "          6.1739e-01,  9.9974e-01,  3.2991e-02,  2.5414e-01,  4.3106e-01,\n",
       "          9.7732e-01, -8.4328e-01,  9.2297e-01,  9.4871e-01,  6.3994e-01,\n",
       "         -7.3620e-01,  9.0956e-02, -9.7607e-01, -1.9114e-01, -8.1717e-01,\n",
       "         -9.7907e-01,  3.1635e-01, -7.2013e-01,  1.6124e-01,  5.1999e-02,\n",
       "         -8.9102e-01,  2.3002e-01,  9.9967e-01,  1.1503e-02,  1.1176e-01,\n",
       "         -3.5556e-01, -1.0000e+00,  2.8487e-01, -8.3339e-01,  8.0987e-01,\n",
       "          7.4664e-01,  6.2762e-01,  1.9847e-01,  4.5185e-01,  4.7242e-01,\n",
       "         -3.9158e-03, -1.0570e-01,  9.3340e-02, -1.8906e-01, -5.1946e-01,\n",
       "         -5.7823e-01,  2.8046e-01, -8.2281e-01, -8.9764e-01,  9.1890e-01,\n",
       "          7.4117e-01, -5.9992e-02, -3.1655e-01,  2.8231e-03, -1.4652e-01,\n",
       "          9.0953e-01,  2.5587e-01,  5.4494e-02, -8.4187e-01,  5.7771e-01,\n",
       "          2.4804e-01, -6.1732e-01,  1.0000e+00, -6.4891e-01, -9.5425e-01,\n",
       "          5.5482e-01,  6.8866e-01,  5.5711e-01, -3.3463e-01,  4.7904e-01,\n",
       "         -1.0000e+00,  3.4197e-01, -1.1332e-01, -9.7818e-01,  2.2887e-01,\n",
       "          4.5161e-01, -1.5720e-01,  1.6195e-01,  5.1240e-01, -5.7138e-01,\n",
       "         -3.7296e-01, -2.8502e-01, -8.0263e-01, -2.1937e-01, -2.2406e-01,\n",
       "         -5.1871e-03, -2.6417e-01, -2.2839e-01, -3.7414e-01,  2.6933e-01,\n",
       "         -4.5077e-01, -5.5173e-01,  4.8430e-01,  4.7178e-02,  6.6727e-01,\n",
       "          3.3201e-01, -2.9447e-01,  5.0653e-01, -9.4933e-01,  6.1857e-01,\n",
       "         -2.4586e-01, -9.7565e-01, -5.3396e-01, -9.7924e-01,  5.8934e-01,\n",
       "         -2.3402e-01, -2.7536e-01,  9.4687e-01,  1.5282e-01,  3.0223e-01,\n",
       "          1.1186e-02, -7.3234e-01, -1.0000e+00, -6.9951e-01, -5.0531e-01,\n",
       "         -2.7527e-01, -2.0676e-01, -9.5607e-01, -9.1109e-01,  5.1232e-01,\n",
       "          9.3519e-01,  1.3547e-01,  9.9877e-01, -2.0620e-01,  9.2237e-01,\n",
       "         -4.9195e-01, -7.0814e-01,  6.5991e-01, -4.0702e-01,  7.4080e-01,\n",
       "          4.4237e-01, -6.9697e-01,  1.7959e-01, -2.0311e-01,  2.8031e-01,\n",
       "         -6.5004e-01, -2.2036e-01, -6.8982e-01, -9.2266e-01, -3.2942e-01,\n",
       "          9.3754e-01, -4.7618e-01, -8.9325e-01, -1.4759e-01, -1.4892e-01,\n",
       "         -5.3520e-01,  8.4738e-01,  7.0655e-01,  3.8488e-01, -4.0430e-01,\n",
       "          3.9195e-01,  2.2351e-01,  5.5196e-01, -8.1159e-01, -1.8874e-01,\n",
       "          3.3696e-01, -3.6883e-01, -6.5580e-01, -9.7058e-01, -3.4790e-01,\n",
       "          4.8675e-01,  9.8414e-01,  7.1667e-01,  2.3032e-01,  7.0561e-01,\n",
       "         -8.2327e-02,  7.3910e-01, -9.2162e-01,  9.5893e-01, -3.3638e-01,\n",
       "          2.3401e-01,  6.1110e-02,  4.1919e-01, -8.5576e-01,  1.5276e-01,\n",
       "          8.8090e-01, -6.3311e-01, -8.3712e-01,  6.5171e-02, -4.3054e-01,\n",
       "         -3.4557e-01, -5.9076e-01,  5.1503e-01, -2.6207e-01, -2.4693e-01,\n",
       "          6.1307e-02,  8.7691e-01,  9.8752e-01,  8.0232e-01,  1.4752e-01,\n",
       "          6.8812e-01, -8.9320e-01, -5.4703e-01,  4.8356e-02,  2.1540e-01,\n",
       "          2.3904e-01,  9.9014e-01, -4.9880e-01, -1.3789e-01, -9.2269e-01,\n",
       "         -9.7721e-01, -9.4688e-02, -9.0299e-01, -1.3468e-01, -7.0078e-01,\n",
       "          5.1663e-01,  2.4403e-01,  6.1268e-01,  3.6200e-01, -9.9236e-01,\n",
       "         -7.4132e-01,  3.4922e-01, -2.3057e-01,  3.8191e-01, -1.6780e-01,\n",
       "          3.9557e-02,  8.9809e-01, -5.3350e-01,  8.3722e-01,  8.8839e-01,\n",
       "         -7.2514e-01, -7.3965e-01,  8.9407e-01, -2.3408e-01,  8.7030e-01,\n",
       "         -5.6373e-01,  9.7425e-01,  8.4706e-01,  8.3270e-01, -8.9631e-01,\n",
       "         -5.6269e-01, -9.0159e-01, -6.9972e-01,  6.1689e-02,  9.8558e-02,\n",
       "          8.7749e-01,  5.6404e-01,  3.4049e-01,  3.7582e-01, -6.7834e-01,\n",
       "          9.9827e-01, -3.3602e-02, -9.2002e-01,  2.7571e-01, -3.0865e-01,\n",
       "         -9.6896e-01,  7.2166e-01,  3.3953e-01, -4.0739e-03, -4.1497e-01,\n",
       "         -6.4642e-01, -9.2770e-01,  9.3160e-01,  6.0920e-02,  9.9071e-01,\n",
       "          4.6196e-02, -9.3994e-01, -6.6822e-01, -8.9785e-01, -3.0716e-01,\n",
       "         -2.0500e-01, -3.8714e-01, -8.1208e-02, -9.4563e-01,  4.3475e-01,\n",
       "          4.1566e-01,  4.9148e-01, -6.9445e-01,  9.9830e-01,  1.0000e+00,\n",
       "          9.3747e-01,  8.9366e-01,  9.2651e-01, -9.9799e-01, -2.9389e-01,\n",
       "          9.9995e-01, -9.7730e-01, -1.0000e+00, -9.1234e-01, -6.9568e-01,\n",
       "          3.7277e-01, -1.0000e+00, -2.0609e-01,  1.7125e-01, -8.7448e-01,\n",
       "          5.9412e-01,  9.6720e-01,  9.9095e-01, -1.0000e+00,  6.5990e-01,\n",
       "          9.2648e-01, -6.0201e-01,  9.5347e-01, -3.2178e-01,  9.5794e-01,\n",
       "          6.5932e-01,  1.1768e-01, -2.4565e-01,  3.2490e-01, -8.8230e-01,\n",
       "         -8.7855e-01, -4.5894e-01, -6.2306e-01,  9.8882e-01,  1.1127e-01,\n",
       "         -8.1504e-01, -8.9768e-01, -2.5663e-02, -2.0069e-01, -3.3576e-01,\n",
       "         -9.4615e-01, -1.0597e-01,  5.6197e-01,  7.7034e-01,  9.0875e-02,\n",
       "          3.0440e-01, -6.8938e-01,  2.5243e-01, -1.7008e-01,  3.3678e-01,\n",
       "          6.2607e-01, -9.2541e-01, -6.4668e-01, -4.1812e-01, -1.5776e-01,\n",
       "         -5.8090e-01, -9.3592e-01,  9.5067e-01, -4.7707e-01,  7.9794e-01,\n",
       "          1.0000e+00,  1.2838e-01, -8.6789e-01,  6.2421e-01,  2.0468e-01,\n",
       "          4.3402e-03,  1.0000e+00,  7.7308e-01, -9.5914e-01, -4.9383e-01,\n",
       "          5.1447e-01, -5.0643e-01, -4.6023e-01,  9.9656e-01, -2.7889e-01,\n",
       "         -6.0374e-01, -3.1379e-01,  9.4870e-01, -9.7579e-01,  9.8235e-01,\n",
       "         -8.9237e-01, -9.4238e-01,  9.3981e-01,  9.0497e-01, -6.8348e-01,\n",
       "         -4.2984e-01,  1.2406e-01, -6.3880e-01,  3.0334e-01, -9.6749e-01,\n",
       "          7.3108e-01,  5.1503e-01,  4.4069e-02,  8.4879e-01, -9.0855e-01,\n",
       "         -4.6638e-01,  2.9909e-01, -7.3568e-01, -2.1431e-01,  7.7439e-01,\n",
       "          5.1014e-01, -3.0549e-01,  9.3042e-02, -3.4041e-01,  2.4432e-01,\n",
       "         -9.6357e-01,  3.4927e-01,  1.0000e+00, -2.4683e-01,  4.8418e-01,\n",
       "         -5.1474e-01,  5.1816e-02, -1.7388e-01,  4.7761e-01,  5.5868e-01,\n",
       "         -2.4163e-01, -8.0916e-01,  7.3723e-01, -9.7524e-01, -9.7020e-01,\n",
       "          8.5261e-01,  1.8727e-01, -2.7090e-01,  9.9998e-01,  4.6983e-01,\n",
       "          9.6978e-02,  3.6851e-01,  9.7414e-01, -8.3787e-04,  6.4376e-01,\n",
       "          8.7053e-01,  9.6059e-01, -1.8756e-01,  5.1957e-01,  8.7386e-01,\n",
       "         -8.3668e-01, -2.7663e-01, -5.9559e-01, -1.2339e-02, -8.8570e-01,\n",
       "          8.2444e-02, -9.3376e-01,  9.5201e-01,  8.6130e-01,  3.3720e-01,\n",
       "          2.3967e-01,  5.4095e-01,  1.0000e+00,  1.3089e-01,  7.5866e-01,\n",
       "         -6.5313e-01,  9.1302e-01, -9.9812e-01, -8.6791e-01, -3.1752e-01,\n",
       "         -9.1604e-03, -7.3271e-01, -3.1350e-01,  2.6582e-01, -9.5944e-01,\n",
       "          7.4126e-01,  4.9215e-01, -9.9320e-01, -9.8625e-01, -2.1465e-01,\n",
       "          9.0425e-01, -4.9062e-02, -9.3739e-01, -7.3878e-01, -5.6868e-01,\n",
       "          5.5593e-01, -2.0358e-01, -9.3490e-01, -1.9005e-01, -2.3025e-01,\n",
       "          4.5899e-01, -7.0443e-02,  5.4063e-01,  7.6846e-01,  5.9393e-01,\n",
       "         -1.9536e-01, -1.4414e-01, -2.6515e-02, -8.3050e-01,  8.8996e-01,\n",
       "         -8.3560e-01, -8.2514e-01, -1.7632e-01,  1.0000e+00, -5.3209e-01,\n",
       "          7.4747e-01,  7.9880e-01,  8.0815e-01, -1.0571e-01,  9.6487e-02,\n",
       "          8.7753e-01,  2.1673e-01, -7.5100e-01, -8.1242e-01, -9.0104e-01,\n",
       "         -3.2831e-01,  6.3693e-01,  8.2347e-03,  5.5376e-01,  7.1281e-01,\n",
       "          6.4975e-01,  1.4424e-01,  3.0209e-02, -1.5367e-01,  9.9958e-01,\n",
       "         -2.4823e-01, -4.5267e-02, -4.9861e-01,  8.4452e-03, -3.3764e-01,\n",
       "         -7.4455e-01,  1.0000e+00,  2.2909e-01,  3.0400e-01, -9.8225e-01,\n",
       "         -7.7581e-01, -9.3825e-01,  9.9999e-01,  8.0493e-01, -6.9461e-01,\n",
       "          6.7583e-01,  7.1560e-01, -7.5955e-02,  8.8280e-01, -8.8796e-02,\n",
       "         -3.6776e-01,  3.0358e-01,  9.0578e-02,  9.3570e-01, -5.4713e-01,\n",
       "         -9.4064e-01, -5.1854e-01,  3.6407e-01, -9.4587e-01,  9.9884e-01,\n",
       "         -4.6634e-01, -2.2036e-01, -4.2909e-01,  1.9812e-01,  8.0296e-01,\n",
       "         -1.1237e-01, -9.7593e-01,  3.2547e-03,  2.2387e-01,  9.4407e-01,\n",
       "          2.3152e-01, -5.3741e-01, -9.0152e-01,  7.2972e-01,  6.4678e-01,\n",
       "         -8.5261e-01, -9.2280e-01,  9.4217e-01, -9.8578e-01,  6.6755e-01,\n",
       "          1.0000e+00,  3.4225e-01, -1.6761e-01,  7.7093e-02, -3.9836e-01,\n",
       "          2.2625e-01, -2.2041e-01,  7.3612e-01, -9.2743e-01, -3.6491e-01,\n",
       "         -1.7540e-01,  2.9468e-01, -1.1303e-01,  2.6401e-01,  6.9200e-01,\n",
       "          1.5430e-01, -4.0083e-01, -5.2640e-01,  2.4087e-02,  4.3949e-01,\n",
       "          8.6077e-01, -2.6866e-01, -1.0388e-01,  7.5585e-03, -1.2241e-01,\n",
       "         -9.1376e-01, -2.1348e-01, -2.9673e-01, -9.9988e-01,  6.9455e-01,\n",
       "         -1.0000e+00,  2.8368e-01,  8.6733e-02, -1.2220e-01,  7.9206e-01,\n",
       "          1.5489e-02,  4.9311e-01, -7.3105e-01, -8.1444e-01,  5.0827e-01,\n",
       "          7.2358e-01, -2.9349e-01, -5.1790e-01, -6.9774e-01,  2.4637e-01,\n",
       "         -1.5526e-02,  2.1339e-01, -5.1806e-01,  7.8137e-01, -1.7301e-01,\n",
       "          1.0000e+00,  1.9527e-01, -7.5410e-01, -9.8262e-01,  1.5416e-01,\n",
       "         -2.1457e-01,  1.0000e+00, -9.3285e-01, -9.1573e-01,  2.9430e-01,\n",
       "         -6.9617e-01, -8.3260e-01,  2.6820e-01, -3.4682e-02, -7.8862e-01,\n",
       "         -8.5820e-01,  9.5101e-01,  9.4690e-01, -5.5200e-01,  4.5879e-01,\n",
       "         -3.4441e-01, -5.6057e-01, -4.5147e-02,  7.0248e-01,  9.7133e-01,\n",
       "          2.6254e-01,  8.9137e-01,  4.2302e-01, -7.3707e-02,  9.4970e-01,\n",
       "          1.6445e-01,  6.1381e-01,  1.0270e-01,  1.0000e+00,  2.7983e-01,\n",
       "         -8.8676e-01,  1.4404e-01, -9.7244e-01, -1.6864e-01, -9.5221e-01,\n",
       "          2.6231e-01,  2.7997e-01,  8.9316e-01, -2.3383e-01,  9.4295e-01,\n",
       "         -5.3833e-01,  4.3593e-02, -7.9243e-01, -3.1933e-01,  3.5616e-01,\n",
       "         -9.0270e-01, -9.7206e-01, -9.7301e-01,  6.8435e-01, -4.2106e-01,\n",
       "          4.4723e-02,  1.2440e-01,  7.1743e-03,  3.5916e-01,  4.4393e-01,\n",
       "         -1.0000e+00,  9.2962e-01,  3.8557e-01,  8.5492e-01,  9.2992e-01,\n",
       "          7.0625e-01,  4.8370e-01,  2.3270e-01, -9.7541e-01, -9.8218e-01,\n",
       "         -3.2932e-01, -2.1163e-01,  7.5084e-01,  6.3202e-01,  8.8856e-01,\n",
       "          4.3251e-01, -5.0404e-01, -6.7028e-02, -2.9505e-01, -3.2807e-01,\n",
       "         -9.8568e-01,  4.3446e-01, -5.8658e-01, -9.7724e-01,  9.3651e-01,\n",
       "         -1.3708e-01, -1.3665e-01, -9.2903e-02, -6.6635e-01,  9.7278e-01,\n",
       "          7.0707e-01,  4.3203e-01,  8.7915e-02,  4.7217e-01,  8.3990e-01,\n",
       "          9.4993e-01,  9.7219e-01, -6.7202e-01,  8.3279e-01, -5.4167e-01,\n",
       "          4.1125e-01,  3.4719e-01, -9.0791e-01,  9.1832e-02,  2.0505e-01,\n",
       "         -2.8610e-01,  1.5352e-01, -1.1304e-01, -9.8395e-01,  1.8631e-01,\n",
       "         -2.0863e-01,  6.1166e-01, -2.9382e-01,  5.8579e-02, -3.7076e-01,\n",
       "         -3.7402e-02, -6.2659e-01, -7.5935e-01,  5.6508e-01,  5.0258e-01,\n",
       "          8.7703e-01,  8.0735e-01, -6.9027e-02, -6.4556e-01, -2.2308e-01,\n",
       "         -7.0203e-01, -8.9239e-01,  9.4453e-01, -2.7452e-02, -3.4130e-01,\n",
       "          5.0977e-01, -1.5005e-01,  5.0155e-01,  9.2491e-02, -3.1371e-01,\n",
       "         -3.9861e-01, -6.5197e-01,  8.3609e-01,  4.2015e-02, -5.3505e-01,\n",
       "         -7.0400e-01,  5.6731e-01,  3.1090e-01,  9.9974e-01, -6.7131e-01,\n",
       "         -8.3116e-01, -1.6593e-01, -3.9197e-01,  2.8166e-01, -4.2960e-01,\n",
       "         -1.0000e+00,  3.9846e-01, -3.7210e-01,  6.3236e-01, -6.8413e-01,\n",
       "          4.8827e-01, -7.2434e-01, -9.8220e-01, -1.6252e-01,  4.2167e-02,\n",
       "          6.8658e-01, -4.7085e-01, -7.6191e-01,  4.8094e-01, -1.6689e-01,\n",
       "          9.5317e-01,  8.1554e-01, -3.6865e-01,  1.1302e-01,  6.0376e-01,\n",
       "         -6.5595e-01, -6.1998e-01,  9.0952e-01]], device='mps:0',\n",
       "       grad_fn=<TanhBackward0>), hidden_states=None, past_key_values=None, attentions=None, cross_attentions=None)"
      ]
     },
     "execution_count": 23,
     "metadata": {},
     "output_type": "execute_result"
    }
   ],
   "source": [
    "outputs"
   ]
  },
  {
   "cell_type": "code",
   "execution_count": null,
   "metadata": {},
   "outputs": [],
   "source": []
  }
 ],
 "metadata": {
  "kernelspec": {
   "display_name": "Python 3 (ipykernel)",
   "language": "python",
   "name": "python3"
  },
  "language_info": {
   "codemirror_mode": {
    "name": "ipython",
    "version": 3
   },
   "file_extension": ".py",
   "mimetype": "text/x-python",
   "name": "python",
   "nbconvert_exporter": "python",
   "pygments_lexer": "ipython3",
   "version": "3.12.9"
  }
 },
 "nbformat": 4,
 "nbformat_minor": 4
}
