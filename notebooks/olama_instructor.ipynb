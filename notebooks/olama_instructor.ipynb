{
 "cells": [
  {
   "cell_type": "markdown",
   "metadata": {},
   "source": [
    "Refer to this [document](https://python.useinstructor.com/examples/ollama/), we can use ollama and instructor to constrain ollama's response into pydantic response"
   ]
  },
  {
   "cell_type": "code",
   "execution_count": 3,
   "metadata": {},
   "outputs": [],
   "source": [
    "from openai import OpenAI\n",
    "from pydantic import BaseModel, Field\n",
    "from typing import List\n",
    "import instructor"
   ]
  },
  {
   "cell_type": "code",
   "execution_count": 10,
   "metadata": {},
   "outputs": [],
   "source": [
    "class Character(BaseModel):\n",
    "    name: str\n",
    "    age: int\n",
    "    fact: List[str] = Field(..., description=\"A list of facts about the character\")\n"
   ]
  },
  {
   "cell_type": "code",
   "execution_count": 11,
   "metadata": {},
   "outputs": [],
   "source": [
    "client = instructor.from_openai(\n",
    "    OpenAI(\n",
    "        base_url='http://localhost:11434/v1',\n",
    "        api_key='null', \n",
    "    ),\n",
    "    mode=instructor.Mode.JSON\n",
    ")"
   ]
  },
  {
   "cell_type": "code",
   "execution_count": 13,
   "metadata": {},
   "outputs": [],
   "source": [
    "resp = client.chat.completions.create(\n",
    "    model='gemma2:9b',\n",
    "    messages=[\n",
    "        {\n",
    "            \"role\": \"user\",\n",
    "            \"content\": \"Tell me about the Harry Potter\",\n",
    "        }\n",
    "    ],\n",
    "    response_model=Character,\n",
    ")"
   ]
  },
  {
   "cell_type": "code",
   "execution_count": 15,
   "metadata": {},
   "outputs": [
    {
     "name": "stdout",
     "output_type": "stream",
     "text": [
      "{\n",
      "  \"name\": \"Harry Potter\",\n",
      "  \"age\": 11,\n",
      "  \"fact\": [\n",
      "    \"He is an orphan raised by his aunt, uncle, and cousin.\",\n",
      "    \"He learns on his eleventh birthday that he is a wizard and is destined to attend Hogwarts School of Witchcraft and Wizardry.\",\n",
      "    \"He is famous in the wizarding world for surviving Lord Voldemort's killing curse as a baby.\"\n",
      "  ]\n",
      "}\n"
     ]
    }
   ],
   "source": [
    "print(resp.model_dump_json(indent=2))"
   ]
  },
  {
   "cell_type": "code",
   "execution_count": 16,
   "metadata": {},
   "outputs": [],
   "source": [
    "resp = client.chat.completions.create(\n",
    "    model='llama3:instruct',\n",
    "    messages=[\n",
    "        {\n",
    "            \"role\": \"user\",\n",
    "            \"content\": \"Tell me about the Harry Potter\",\n",
    "        }\n",
    "    ],\n",
    "    response_model=Character,\n",
    ")"
   ]
  },
  {
   "cell_type": "code",
   "execution_count": 18,
   "metadata": {},
   "outputs": [
    {
     "name": "stdout",
     "output_type": "stream",
     "text": [
      "{\n",
      "  \"name\": \"Harry James Potter\",\n",
      "  \"age\": 37,\n",
      "  \"fact\": [\n",
      "    \"Some important facts about Harry Potter\"\n",
      "  ]\n",
      "}\n"
     ]
    }
   ],
   "source": [
    "print(resp.model_dump_json(indent=2))"
   ]
  },
  {
   "cell_type": "code",
   "execution_count": null,
   "metadata": {},
   "outputs": [],
   "source": []
  }
 ],
 "metadata": {
  "kernelspec": {
   "display_name": "Python 3 (ipykernel)",
   "language": "python",
   "name": "python3"
  },
  "language_info": {
   "codemirror_mode": {
    "name": "ipython",
    "version": 3
   },
   "file_extension": ".py",
   "mimetype": "text/x-python",
   "name": "python",
   "nbconvert_exporter": "python",
   "pygments_lexer": "ipython3",
   "version": "3.12.9"
  }
 },
 "nbformat": 4,
 "nbformat_minor": 4
}
