{
 "cells": [
  {
   "cell_type": "markdown",
   "id": "b9f6b100-c18e-464b-b1a1-05ecdb16d8c7",
   "metadata": {},
   "source": [
    "# Basic Auto Encoder\n",
    "notebool source: [rasbt/deeplearning-models](https://github.com/cwyark/deeplearning-models/blob/master/pytorch_ipynb/autoencoder/ae-basic.ipynb)"
   ]
  },
  {
   "cell_type": "code",
   "execution_count": 1,
   "id": "f3711a00-536a-4233-a6e3-085db94cb8a4",
   "metadata": {},
   "outputs": [],
   "source": [
    "import time\n",
    "import numpy as np\n",
    "import torch\n",
    "import torch.nn.functional as F\n",
    "from torchvision import datasets\n",
    "from torchvision import transforms\n",
    "from torch.utils.data import DataLoader"
   ]
  },
  {
   "cell_type": "code",
   "execution_count": 3,
   "id": "5f3c550a-df8c-4834-a2ad-72d72d1c5285",
   "metadata": {},
   "outputs": [
    {
     "name": "stdout",
     "output_type": "stream",
     "text": [
      "device:  mps\n"
     ]
    }
   ],
   "source": [
    "device = torch.device(\"mps\") if torch.mps.is_available() else \"cpu\"\n",
    "print(\"device: \", device)"
   ]
  },
  {
   "cell_type": "code",
   "execution_count": 4,
   "id": "50348062-8011-4707-a143-3c02c2f39eeb",
   "metadata": {},
   "outputs": [],
   "source": [
    "# hyper parameters\n",
    "random_seed = 123\n",
    "learning_rate = 0.005\n",
    "num_epochs = 5\n",
    "batch_size = 256"
   ]
  },
  {
   "cell_type": "code",
   "execution_count": 5,
   "id": "e8d6bbb5-4ccd-4065-8c61-ab4fd65a3921",
   "metadata": {},
   "outputs": [],
   "source": [
    "# Archiecture\n",
    "num_features = 784\n",
    "num_hidden_1 = 32"
   ]
  },
  {
   "cell_type": "code",
   "execution_count": 6,
   "id": "5fde23d3-361c-4cbf-8bb4-305e13707bc7",
   "metadata": {},
   "outputs": [
    {
     "name": "stderr",
     "output_type": "stream",
     "text": [
      "100.0%\n",
      "100.0%\n",
      "100.0%\n",
      "100.0%\n"
     ]
    }
   ],
   "source": [
    "# MNIST datasets\n",
    "train_dataset = datasets.MNIST(root='data', train=True, transform=transforms.ToTensor(), download=True)\n",
    "test_dataset = datasets.MNIST(root='data', train=False, transform=transforms.ToTensor())\n",
    "\n",
    "# MNIST dataloader\n",
    "train_dataloader = DataLoader(dataset=train_dataset, batch_size=batch_size, shuffle=True)\n",
    "test_dataloader = DataLoader(dataset=test_dataset, batch_size=batch_size, shuffle=False)"
   ]
  },
  {
   "cell_type": "code",
   "execution_count": 7,
   "id": "687b333b-3551-4e81-90a3-72c66d929b6a",
   "metadata": {},
   "outputs": [
    {
     "name": "stdout",
     "output_type": "stream",
     "text": [
      "Image batch dimensions: torch.Size([256, 1, 28, 28])\n",
      "Image label dimensions: torch.Size([256])\n"
     ]
    }
   ],
   "source": [
    "for images, labels in train_dataloader:\n",
    "    print('Image batch dimensions:', images.shape)\n",
    "    print('Image label dimensions:', labels.shape)\n",
    "    break;\n"
   ]
  },
  {
   "cell_type": "code",
   "execution_count": 8,
   "id": "45b3c086-f030-412b-8b85-ef58435bcca1",
   "metadata": {},
   "outputs": [],
   "source": [
    "# Auto Enoder Model\n",
    "class AutoEncoder(torch.nn.Module):\n",
    "    def __init__(self, num_features):\n",
    "        super(AutoEncoder, self).__init__()\n",
    "\n",
    "        # encoder layer\n",
    "        self.linear_1 = torch.nn.Linear(num_features, num_hidden_1)\n",
    "\n",
    "        self.linear_1.weight.detach().normal_(0.0, 0.1)\n",
    "        self.linear_1.bias.detach().zero_()\n",
    "        \n",
    "        # decoder layer\n",
    "        self.linear_2 = torch.nn.Linear(num_hidden_1, num_features)\n",
    "\n",
    "        self.linear_1.weight.detach().normal_(0.0, 0.1)\n",
    "        self.linear_1.bias.detach().zero_()\n",
    "\n",
    "    def forward(self, x):\n",
    "        # encode\n",
    "        encoded = self.linear_1(x)\n",
    "        encoded = F.leaky_relu(encoded)\n",
    "\n",
    "        # decode\n",
    "        logits = self.linear_2(encoded)\n",
    "        decoded = torch.sigmoid(logits)\n",
    "\n",
    "        return decoded"
   ]
  },
  {
   "cell_type": "code",
   "execution_count": 9,
   "id": "4fc40b41-05c6-461f-ac36-9d573f34a96d",
   "metadata": {},
   "outputs": [],
   "source": [
    "torch.manual_seed(random_seed)\n",
    "model = AutoEncoder(num_features=num_features)\n",
    "model = model.to(device)"
   ]
  },
  {
   "cell_type": "code",
   "execution_count": 11,
   "id": "772561bb-082f-4ed2-a179-ef2b4c815189",
   "metadata": {},
   "outputs": [],
   "source": [
    "optimizer = torch.optim.Adam(model.parameters(), lr=learning_rate)"
   ]
  },
  {
   "cell_type": "code",
   "execution_count": 21,
   "id": "247ea4b2-bfee-4e7d-aaf3-bab85ea794c0",
   "metadata": {},
   "outputs": [
    {
     "name": "stdout",
     "output_type": "stream",
     "text": [
      "Epoch: 1/5 | Batch 0/235 | Cost: 0.7098\n",
      "Epoch: 1/5 | Batch 50/235 | Cost: 0.2097\n",
      "Epoch: 1/5 | Batch 100/235 | Cost: 0.1603\n",
      "Epoch: 1/5 | Batch 150/235 | Cost: 0.1373\n",
      "Epoch: 1/5 | Batch 200/235 | Cost: 0.1269\n",
      "Time elapsed: 0.060590795675913495\n",
      "Epoch: 2/5 | Batch 0/235 | Cost: 0.1193\n",
      "Epoch: 2/5 | Batch 50/235 | Cost: 0.1110\n",
      "Epoch: 2/5 | Batch 100/235 | Cost: 0.1079\n",
      "Epoch: 2/5 | Batch 150/235 | Cost: 0.1037\n",
      "Epoch: 2/5 | Batch 200/235 | Cost: 0.1032\n",
      "Time elapsed: 0.09466836452484131\n",
      "Epoch: 3/5 | Batch 0/235 | Cost: 0.1022\n",
      "Epoch: 3/5 | Batch 50/235 | Cost: 0.1025\n",
      "Epoch: 3/5 | Batch 100/235 | Cost: 0.0992\n",
      "Epoch: 3/5 | Batch 150/235 | Cost: 0.0955\n",
      "Epoch: 3/5 | Batch 200/235 | Cost: 0.0965\n",
      "Time elapsed: 0.12988961537679036\n",
      "Epoch: 4/5 | Batch 0/235 | Cost: 0.0986\n",
      "Epoch: 4/5 | Batch 50/235 | Cost: 0.0964\n",
      "Epoch: 4/5 | Batch 100/235 | Cost: 0.0988\n",
      "Epoch: 4/5 | Batch 150/235 | Cost: 0.0973\n",
      "Epoch: 4/5 | Batch 200/235 | Cost: 0.0931\n",
      "Time elapsed: 0.16647746562957763\n",
      "Epoch: 5/5 | Batch 0/235 | Cost: 0.0967\n",
      "Epoch: 5/5 | Batch 50/235 | Cost: 0.0954\n",
      "Epoch: 5/5 | Batch 100/235 | Cost: 0.0944\n",
      "Epoch: 5/5 | Batch 150/235 | Cost: 0.0968\n",
      "Epoch: 5/5 | Batch 200/235 | Cost: 0.0952\n",
      "Time elapsed: 0.20086830059687297\n",
      "Total traing time: 0.20087096691131592\n"
     ]
    }
   ],
   "source": [
    "# Train\n",
    "start_time = time.time()\n",
    "for epoch in range(num_epochs):\n",
    "    for batch_idx, (features, targets) in enumerate(train_dataloader):\n",
    "\n",
    "        features = features.view(-1, 28*28).to(device)\n",
    "\n",
    "        # forward and back prop\n",
    "        decoded = model(features)\n",
    "        cost = F.binary_cross_entropy(decoded, features)\n",
    "        optimizer.zero_grad()\n",
    "        cost.backward()\n",
    "\n",
    "        # update optimizer\n",
    "        optimizer.step()\n",
    "\n",
    "        if not batch_idx % 50:\n",
    "            print(f\"Epoch: {epoch+1}/{num_epochs} | Batch {batch_idx}/{len(train_dataloader)} | Cost: {cost:.4f}\")\n",
    "\n",
    "    print(f\"Time elapsed: {(time.time() - start_time)/60}\")\n",
    "\n",
    "print(f\"Total traing time: {(time.time() - start_time) / 60}\")"
   ]
  },
  {
   "cell_type": "code",
   "execution_count": 24,
   "id": "f7e98f76-4cff-4236-909d-ee5c98b60c0c",
   "metadata": {},
   "outputs": [
    {
     "data": {
      "image/png": "[encoded data removed]",
      "text/plain": [
       "<Figure size 2000x250 with 30 Axes>"
      ]
     },
     "metadata": {},
     "output_type": "display_data"
    }
   ],
   "source": [
    "# evaluation\n",
    "import matplotlib.pyplot as plt\n",
    "\n",
    "n_images = 15\n",
    "image_width = 28\n",
    "\n",
    "fig, axes = plt.subplots(nrows=2, ncols=n_images, sharex=True, sharey=True, figsize=(20, 2.5))\n",
    "orig_images = features[:n_images]\n",
    "decoded_images = features[:n_images]\n",
    "\n",
    "for i in range(n_images):\n",
    "    for ax, img in zip(axes, [orig_images, decoded_images]):\n",
    "        curr_img = img[i].detach().to(torch.device(\"cpu\"))\n",
    "        ax[i].imshow(curr_img.view((image_width, image_width)), cmap='binary')"
   ]
  }
 ],
 "metadata": {
  "kernelspec": {
   "display_name": "Python 3 (ipykernel)",
   "language": "python",
   "name": "python3"
  },
  "language_info": {
   "codemirror_mode": {
    "name": "ipython",
    "version": 3
   },
   "file_extension": ".py",
   "mimetype": "text/x-python",
   "name": "python",
   "nbconvert_exporter": "python",
   "pygments_lexer": "ipython3",
   "version": "3.12.9"
  }
 },
 "nbformat": 4,
 "nbformat_minor": 5
}
